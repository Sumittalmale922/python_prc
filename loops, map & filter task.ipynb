{
 "cells": [
  {
   "cell_type": "markdown",
   "metadata": {},
   "source": [
    "\n",
    "# For loop"
   ]
  },
  {
   "cell_type": "markdown",
   "metadata": {},
   "source": [
    "* A for loop is used for iterating over a sequence (that is either a list, a tuple, a dictionary, a set, or a string)"
   ]
  },
  {
   "cell_type": "code",
   "execution_count": 1,
   "metadata": {},
   "outputs": [
    {
     "name": "stdout",
     "output_type": "stream",
     "text": [
      "['Apricot', 'Avocados', 'Blueberry', 'BlackcurrantCranberryCantaloupeCherry']\n",
      "Apricot\n",
      "Avocados\n",
      "Blueberry\n",
      "BlackcurrantCranberryCantaloupeCherry\n",
      "Blueberry\n",
      "Blackcurrant\n",
      "cherry\n"
     ]
    }
   ],
   "source": [
    "lFruit = ['Apricot','Avocados','Blueberry','Blackcurrant'\n",
    "'Cranberry'\t'Cantaloupe'\t'Cherry']\n",
    "print(lFruit)\n",
    "for x in lFruit:\n",
    "    print(x)\n",
    "    \n",
    "fruits = [\"Blueberry\", \"Blackcurrant\", \"cherry\"]\n",
    "for x in fruits:\n",
    "  print(x)\n",
    "  if x == \"Cranberry\":\n",
    "    break"
   ]
  },
  {
   "cell_type": "markdown",
   "metadata": {},
   "source": [
    "# continue statement"
   ]
  },
  {
   "cell_type": "markdown",
   "metadata": {},
   "source": [
    "* With the continue statement we can stop the current iteration of the loop, and continue with the next:"
   ]
  },
  {
   "cell_type": "code",
   "execution_count": 6,
   "metadata": {},
   "outputs": [
    {
     "name": "stdout",
     "output_type": "stream",
     "text": [
      "apple\n",
      "cherry\n"
     ]
    }
   ],
   "source": [
    "\n",
    "fruits = [\"apple\", \"banana\", \"cherry\"]\n",
    "for x in fruits:\n",
    "  if x == \"banana\":\n",
    "    continue\n",
    "  print(x)"
   ]
  },
  {
   "cell_type": "markdown",
   "metadata": {},
   "source": [
    "# Range"
   ]
  },
  {
   "cell_type": "markdown",
   "metadata": {},
   "source": [
    "* The range() function returns a sequence of numbers, starting from 0 by default, and increments by 1 (by default), and ends at a specified number."
   ]
  },
  {
   "cell_type": "code",
   "execution_count": 10,
   "metadata": {},
   "outputs": [
    {
     "name": "stdout",
     "output_type": "stream",
     "text": [
      "4\n",
      "8\n",
      "12\n",
      "16\n"
     ]
    }
   ],
   "source": [
    "\n",
    "for x in range(4,20,4):\n",
    "  print(x)"
   ]
  },
  {
   "cell_type": "code",
   "execution_count": 11,
   "metadata": {},
   "outputs": [
    {
     "name": "stdout",
     "output_type": "stream",
     "text": [
      "0\n",
      "1\n",
      "2\n",
      "3\n",
      "4\n",
      "5\n",
      "Finally finished!\n"
     ]
    }
   ],
   "source": [
    "for x in range(6):\n",
    "  print(x)\n",
    "else:\n",
    "  print(\"Finally finished!\")"
   ]
  },
  {
   "cell_type": "markdown",
   "metadata": {},
   "source": [
    "# Nested Loop"
   ]
  },
  {
   "cell_type": "markdown",
   "metadata": {},
   "source": [
    "* A nested loop is a loop inside a loop."
   ]
  },
  {
   "cell_type": "code",
   "execution_count": 12,
   "metadata": {},
   "outputs": [
    {
     "name": "stdout",
     "output_type": "stream",
     "text": [
      "red apple\n",
      "red banana\n",
      "red cherry\n",
      "big apple\n",
      "big banana\n",
      "big cherry\n",
      "tasty apple\n",
      "tasty banana\n",
      "tasty cherry\n"
     ]
    }
   ],
   "source": [
    "adj = [\"red\", \"big\", \"tasty\"]\n",
    "fruits = [\"apple\", \"banana\", \"cherry\"]\n",
    "for x in adj:\n",
    "  for y in fruits:\n",
    "    print(x, y)"
   ]
  },
  {
   "cell_type": "markdown",
   "metadata": {},
   "source": [
    "# while loop"
   ]
  },
  {
   "cell_type": "markdown",
   "metadata": {},
   "source": [
    "* A while loop repeatedly execute a single statement or group of statements as long as the condition is true."
   ]
  },
  {
   "cell_type": "code",
   "execution_count": null,
   "metadata": {},
   "outputs": [],
   "source": [
    "ccc_list = [\n",
    "    {'Country': 'India', 'City': 'New Delhi', 'Continent': 'Asia'},\n",
    "    {'Country': 'Australia', 'City': 'Canberra', 'Continent': 'Australia'},\n",
    "    {'Country': 'South Africa', 'City': 'Cape Town', 'Continent': 'Africa'},\n",
    "    {'Country': 'France', 'City': 'Paris', 'Continent': 'Europe'},\n",
    "    {'Country': 'United States', 'City': 'Washington DC', 'Continent': 'North America'},\n",
    "]"
   ]
  },
  {
   "cell_type": "code",
   "execution_count": null,
   "metadata": {},
   "outputs": [],
   "source": [
    "i = 0\n",
    "while i < len(ccc_list):\n",
    "    country = ccc_list[i]['Country']\n",
    "    continent = ccc_list[i]['Continent']\n",
    "    print(f'{country} belongs to {continent} Continent')\n",
    "    i = i + 1"
   ]
  },
  {
   "cell_type": "markdown",
   "metadata": {},
   "source": [
    "\n",
    "India belongs to Asia Continent\n",
    "Australia belongs to Australia Continent\n",
    "South Africa belongs to Africa Continent\n",
    "France belongs to Europe Continent\n",
    "United States belongs to North America Continent"
   ]
  },
  {
   "cell_type": "markdown",
   "metadata": {},
   "source": [
    "# map fuction"
   ]
  },
  {
   "cell_type": "markdown",
   "metadata": {},
   "source": [
    "* The map function allow to apply a function to an iterable object and returns an iterator containing the results."
   ]
  },
  {
   "cell_type": "code",
   "execution_count": 17,
   "metadata": {},
   "outputs": [],
   "source": [
    "\n",
    "country_and_its_language = {\n",
    "    'India': 'Hindi',\n",
    "    'Australia': 'English',\n",
    "    'South Africa': 'Afrikaans',\n",
    "    'France': 'French',\n",
    "    'United States': 'English'}"
   ]
  },
  {
   "cell_type": "code",
   "execution_count": 19,
   "metadata": {},
   "outputs": [],
   "source": [
    "def add_language(language):\n",
    "    country = language['Country']\n",
    "    if country in country_and_its_language:\n",
    "        language['Language'] = country_and_its_language[country]\n",
    "        \n",
    "    return language"
   ]
  },
  {
   "cell_type": "markdown",
   "metadata": {},
   "source": [
    "\n",
    "# Lambda"
   ]
  },
  {
   "cell_type": "markdown",
   "metadata": {},
   "source": [
    "* Lambda - Lambda expressions allow to create anonymous functions. It can quickly make temporary functions without properly defining function using def."
   ]
  },
  {
   "cell_type": "code",
   "execution_count": 25,
   "metadata": {},
   "outputs": [
    {
     "name": "stdout",
     "output_type": "stream",
     "text": [
      "l1 = [1, 3, 5]\n"
     ]
    }
   ],
   "source": [
    "l1 = list(range(1,6,2))\n",
    "print(f'l1 = {l1}')"
   ]
  },
  {
   "cell_type": "markdown",
   "metadata": {},
   "source": []
  }
 ],
 "metadata": {
  "kernelspec": {
   "display_name": "Python 3",
   "language": "python",
   "name": "python3"
  },
  "language_info": {
   "codemirror_mode": {
    "name": "ipython",
    "version": 3
   },
   "file_extension": ".py",
   "mimetype": "text/x-python",
   "name": "python",
   "nbconvert_exporter": "python",
   "pygments_lexer": "ipython3",
   "version": "3.12.3"
  }
 },
 "nbformat": 4,
 "nbformat_minor": 2
}
